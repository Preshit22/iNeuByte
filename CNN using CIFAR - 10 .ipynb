{
 "cells": [
  {
   "cell_type": "code",
   "execution_count": 4,
   "id": "862076f9",
   "metadata": {},
   "outputs": [
    {
     "name": "stdout",
     "output_type": "stream",
     "text": [
      "Requirement already satisfied: tensorflow in c:\\users\\l-js\\anaconda3\\lib\\site-packages (2.13.0)\n",
      "Requirement already satisfied: tensorflow-intel==2.13.0 in c:\\users\\l-js\\anaconda3\\lib\\site-packages (from tensorflow) (2.13.0)\n",
      "Requirement already satisfied: absl-py>=1.0.0 in c:\\users\\l-js\\anaconda3\\lib\\site-packages (from tensorflow-intel==2.13.0->tensorflow) (2.0.0)\n",
      "Requirement already satisfied: astunparse>=1.6.0 in c:\\users\\l-js\\anaconda3\\lib\\site-packages (from tensorflow-intel==2.13.0->tensorflow) (1.6.3)\n",
      "Requirement already satisfied: flatbuffers>=23.1.21 in c:\\users\\l-js\\anaconda3\\lib\\site-packages (from tensorflow-intel==2.13.0->tensorflow) (23.5.26)\n",
      "Requirement already satisfied: gast<=0.4.0,>=0.2.1 in c:\\users\\l-js\\anaconda3\\lib\\site-packages (from tensorflow-intel==2.13.0->tensorflow) (0.4.0)\n",
      "Requirement already satisfied: google-pasta>=0.1.1 in c:\\users\\l-js\\anaconda3\\lib\\site-packages (from tensorflow-intel==2.13.0->tensorflow) (0.2.0)\n",
      "Requirement already satisfied: h5py>=2.9.0 in c:\\users\\l-js\\anaconda3\\lib\\site-packages (from tensorflow-intel==2.13.0->tensorflow) (3.7.0)\n",
      "Requirement already satisfied: libclang>=13.0.0 in c:\\users\\l-js\\anaconda3\\lib\\site-packages (from tensorflow-intel==2.13.0->tensorflow) (16.0.6)\n",
      "Requirement already satisfied: numpy<=1.24.3,>=1.22 in c:\\users\\l-js\\anaconda3\\lib\\site-packages (from tensorflow-intel==2.13.0->tensorflow) (1.24.3)\n",
      "Requirement already satisfied: opt-einsum>=2.3.2 in c:\\users\\l-js\\anaconda3\\lib\\site-packages (from tensorflow-intel==2.13.0->tensorflow) (3.3.0)\n",
      "Requirement already satisfied: packaging in c:\\users\\l-js\\anaconda3\\lib\\site-packages (from tensorflow-intel==2.13.0->tensorflow) (23.0)\n",
      "Requirement already satisfied: protobuf!=4.21.0,!=4.21.1,!=4.21.2,!=4.21.3,!=4.21.4,!=4.21.5,<5.0.0dev,>=3.20.3 in c:\\users\\l-js\\anaconda3\\lib\\site-packages (from tensorflow-intel==2.13.0->tensorflow) (4.24.3)\n",
      "Requirement already satisfied: setuptools in c:\\users\\l-js\\anaconda3\\lib\\site-packages (from tensorflow-intel==2.13.0->tensorflow) (68.0.0)\n",
      "Requirement already satisfied: six>=1.12.0 in c:\\users\\l-js\\anaconda3\\lib\\site-packages (from tensorflow-intel==2.13.0->tensorflow) (1.16.0)\n",
      "Requirement already satisfied: termcolor>=1.1.0 in c:\\users\\l-js\\anaconda3\\lib\\site-packages (from tensorflow-intel==2.13.0->tensorflow) (2.3.0)\n",
      "Requirement already satisfied: typing-extensions<4.6.0,>=3.6.6 in c:\\users\\l-js\\anaconda3\\lib\\site-packages (from tensorflow-intel==2.13.0->tensorflow) (4.5.0)\n",
      "Requirement already satisfied: wrapt>=1.11.0 in c:\\users\\l-js\\anaconda3\\lib\\site-packages (from tensorflow-intel==2.13.0->tensorflow) (1.14.1)\n",
      "Requirement already satisfied: grpcio<2.0,>=1.24.3 in c:\\users\\l-js\\anaconda3\\lib\\site-packages (from tensorflow-intel==2.13.0->tensorflow) (1.58.0)\n",
      "Requirement already satisfied: tensorboard<2.14,>=2.13 in c:\\users\\l-js\\anaconda3\\lib\\site-packages (from tensorflow-intel==2.13.0->tensorflow) (2.13.0)\n",
      "Requirement already satisfied: tensorflow-estimator<2.14,>=2.13.0 in c:\\users\\l-js\\anaconda3\\lib\\site-packages (from tensorflow-intel==2.13.0->tensorflow) (2.13.0)\n",
      "Requirement already satisfied: keras<2.14,>=2.13.1 in c:\\users\\l-js\\anaconda3\\lib\\site-packages (from tensorflow-intel==2.13.0->tensorflow) (2.13.1)\n",
      "Requirement already satisfied: tensorflow-io-gcs-filesystem>=0.23.1 in c:\\users\\l-js\\anaconda3\\lib\\site-packages (from tensorflow-intel==2.13.0->tensorflow) (0.31.0)\n",
      "Requirement already satisfied: wheel<1.0,>=0.23.0 in c:\\users\\l-js\\anaconda3\\lib\\site-packages (from astunparse>=1.6.0->tensorflow-intel==2.13.0->tensorflow) (0.38.4)\n",
      "Requirement already satisfied: google-auth<3,>=1.6.3 in c:\\users\\l-js\\anaconda3\\lib\\site-packages (from tensorboard<2.14,>=2.13->tensorflow-intel==2.13.0->tensorflow) (2.23.0)\n",
      "Requirement already satisfied: google-auth-oauthlib<1.1,>=0.5 in c:\\users\\l-js\\anaconda3\\lib\\site-packages (from tensorboard<2.14,>=2.13->tensorflow-intel==2.13.0->tensorflow) (1.0.0)\n",
      "Requirement already satisfied: markdown>=2.6.8 in c:\\users\\l-js\\anaconda3\\lib\\site-packages (from tensorboard<2.14,>=2.13->tensorflow-intel==2.13.0->tensorflow) (3.4.1)\n",
      "Requirement already satisfied: requests<3,>=2.21.0 in c:\\users\\l-js\\anaconda3\\lib\\site-packages (from tensorboard<2.14,>=2.13->tensorflow-intel==2.13.0->tensorflow) (2.31.0)\n",
      "Requirement already satisfied: tensorboard-data-server<0.8.0,>=0.7.0 in c:\\users\\l-js\\anaconda3\\lib\\site-packages (from tensorboard<2.14,>=2.13->tensorflow-intel==2.13.0->tensorflow) (0.7.1)\n",
      "Requirement already satisfied: werkzeug>=1.0.1 in c:\\users\\l-js\\anaconda3\\lib\\site-packages (from tensorboard<2.14,>=2.13->tensorflow-intel==2.13.0->tensorflow) (2.2.3)\n",
      "Requirement already satisfied: cachetools<6.0,>=2.0.0 in c:\\users\\l-js\\anaconda3\\lib\\site-packages (from google-auth<3,>=1.6.3->tensorboard<2.14,>=2.13->tensorflow-intel==2.13.0->tensorflow) (5.3.1)\n",
      "Requirement already satisfied: pyasn1-modules>=0.2.1 in c:\\users\\l-js\\anaconda3\\lib\\site-packages (from google-auth<3,>=1.6.3->tensorboard<2.14,>=2.13->tensorflow-intel==2.13.0->tensorflow) (0.2.8)\n",
      "Requirement already satisfied: rsa<5,>=3.1.4 in c:\\users\\l-js\\anaconda3\\lib\\site-packages (from google-auth<3,>=1.6.3->tensorboard<2.14,>=2.13->tensorflow-intel==2.13.0->tensorflow) (4.9)\n",
      "Requirement already satisfied: urllib3<2.0 in c:\\users\\l-js\\anaconda3\\lib\\site-packages (from google-auth<3,>=1.6.3->tensorboard<2.14,>=2.13->tensorflow-intel==2.13.0->tensorflow) (1.26.16)\n",
      "Requirement already satisfied: requests-oauthlib>=0.7.0 in c:\\users\\l-js\\anaconda3\\lib\\site-packages (from google-auth-oauthlib<1.1,>=0.5->tensorboard<2.14,>=2.13->tensorflow-intel==2.13.0->tensorflow) (1.3.1)\n",
      "Requirement already satisfied: charset-normalizer<4,>=2 in c:\\users\\l-js\\anaconda3\\lib\\site-packages (from requests<3,>=2.21.0->tensorboard<2.14,>=2.13->tensorflow-intel==2.13.0->tensorflow) (2.0.4)\n",
      "Requirement already satisfied: idna<4,>=2.5 in c:\\users\\l-js\\anaconda3\\lib\\site-packages (from requests<3,>=2.21.0->tensorboard<2.14,>=2.13->tensorflow-intel==2.13.0->tensorflow) (3.4)\n",
      "Requirement already satisfied: certifi>=2017.4.17 in c:\\users\\l-js\\anaconda3\\lib\\site-packages (from requests<3,>=2.21.0->tensorboard<2.14,>=2.13->tensorflow-intel==2.13.0->tensorflow) (2023.7.22)\n",
      "Requirement already satisfied: MarkupSafe>=2.1.1 in c:\\users\\l-js\\anaconda3\\lib\\site-packages (from werkzeug>=1.0.1->tensorboard<2.14,>=2.13->tensorflow-intel==2.13.0->tensorflow) (2.1.1)\n",
      "Requirement already satisfied: pyasn1<0.5.0,>=0.4.6 in c:\\users\\l-js\\anaconda3\\lib\\site-packages (from pyasn1-modules>=0.2.1->google-auth<3,>=1.6.3->tensorboard<2.14,>=2.13->tensorflow-intel==2.13.0->tensorflow) (0.4.8)\n",
      "Requirement already satisfied: oauthlib>=3.0.0 in c:\\users\\l-js\\anaconda3\\lib\\site-packages (from requests-oauthlib>=0.7.0->google-auth-oauthlib<1.1,>=0.5->tensorboard<2.14,>=2.13->tensorflow-intel==2.13.0->tensorflow) (3.2.2)\n",
      "Note: you may need to restart the kernel to use updated packages.\n"
     ]
    }
   ],
   "source": [
    "pip install tensorflow"
   ]
  },
  {
   "cell_type": "code",
   "execution_count": 5,
   "id": "2381aa45",
   "metadata": {},
   "outputs": [],
   "source": [
    "import numpy as np\n",
    "import matplotlib.pyplot as plt\n",
    "import tensorflow as tf\n",
    "from tensorflow import keras\n",
    "from tensorflow.keras import layers\n",
    "from tensorflow.keras.applications import MobileNet\n",
    "from tensorflow.keras.datasets import cifar10\n",
    "from sklearn.metrics import classification_report, confusion_matrix\n"
   ]
  },
  {
   "cell_type": "code",
   "execution_count": 8,
   "id": "5fe7d5f2",
   "metadata": {},
   "outputs": [],
   "source": [
    "# Step 1: Dataset Preparation\n",
    "# Load CIFAR-10 dataset\n",
    "(x_train, y_train), (x_test, y_test) = cifar10.load_data()\n",
    "# Normalize pixel values to be between 0 and 1\n",
    "x_train, x_test = x_train / 255.0, x_test / 255.0"
   ]
  },
  {
   "cell_type": "code",
   "execution_count": 9,
   "id": "47862718",
   "metadata": {},
   "outputs": [],
   "source": [
    "# Step 2: Model Architecture and Training\n",
    "# Define a CNN model\n",
    "cnn_model = keras.Sequential([\n",
    "    layers.Conv2D(32, (3, 3), activation='relu', input_shape=(32, 32, 3)),\n",
    "    layers.MaxPooling2D((2, 2)),\n",
    "    layers.Conv2D(64, (3, 3), activation='relu'),\n",
    "    layers.MaxPooling2D((2, 2)),\n",
    "    layers.Conv2D(64, (3, 3), activation='relu'),\n",
    "    layers.Flatten(),\n",
    "    layers.Dense(64, activation='relu'),\n",
    "    layers.Dense(10)\n",
    "])"
   ]
  },
  {
   "cell_type": "code",
   "execution_count": 10,
   "id": "8c098c68",
   "metadata": {},
   "outputs": [],
   "source": [
    "# Compile the CNN model\n",
    "cnn_model.compile(optimizer='adam',\n",
    "                  loss=tf.keras.losses.SparseCategoricalCrossentropy(from_logits=True),\n",
    "                  metrics=['accuracy'])"
   ]
  },
  {
   "cell_type": "code",
   "execution_count": 12,
   "id": "50030511",
   "metadata": {},
   "outputs": [
    {
     "name": "stdout",
     "output_type": "stream",
     "text": [
      "Epoch 1/10\n",
      "1563/1563 [==============================] - 62s 40ms/step - loss: 1.1442 - accuracy: 0.5945 - val_loss: 1.0951 - val_accuracy: 0.6203\n",
      "Epoch 2/10\n",
      "1563/1563 [==============================] - 58s 37ms/step - loss: 0.9912 - accuracy: 0.6515 - val_loss: 0.9616 - val_accuracy: 0.6626\n",
      "Epoch 3/10\n",
      "1563/1563 [==============================] - 58s 37ms/step - loss: 0.8960 - accuracy: 0.6864 - val_loss: 0.9031 - val_accuracy: 0.6843\n",
      "Epoch 4/10\n",
      "1563/1563 [==============================] - 60s 38ms/step - loss: 0.8226 - accuracy: 0.7134 - val_loss: 0.8887 - val_accuracy: 0.6896\n",
      "Epoch 5/10\n",
      "1563/1563 [==============================] - 56s 36ms/step - loss: 0.7659 - accuracy: 0.7314 - val_loss: 0.8575 - val_accuracy: 0.6997\n",
      "Epoch 6/10\n",
      "1563/1563 [==============================] - 55s 35ms/step - loss: 0.7168 - accuracy: 0.7499 - val_loss: 0.8538 - val_accuracy: 0.7095\n",
      "Epoch 7/10\n",
      "1563/1563 [==============================] - 51s 32ms/step - loss: 0.6723 - accuracy: 0.7660 - val_loss: 0.8538 - val_accuracy: 0.7060\n",
      "Epoch 8/10\n",
      "1563/1563 [==============================] - 51s 33ms/step - loss: 0.6317 - accuracy: 0.7790 - val_loss: 0.8306 - val_accuracy: 0.7162\n",
      "Epoch 9/10\n",
      "1563/1563 [==============================] - 50s 32ms/step - loss: 0.5939 - accuracy: 0.7909 - val_loss: 0.8205 - val_accuracy: 0.7223\n",
      "Epoch 10/10\n",
      "1563/1563 [==============================] - 50s 32ms/step - loss: 0.5626 - accuracy: 0.8020 - val_loss: 0.8668 - val_accuracy: 0.7107\n"
     ]
    }
   ],
   "source": [
    "cnn_history = cnn_model.fit(x_train, y_train, epochs=10, validation_data=(x_test, y_test))"
   ]
  },
  {
   "cell_type": "code",
   "execution_count": 13,
   "id": "2823db54",
   "metadata": {},
   "outputs": [
    {
     "name": "stdout",
     "output_type": "stream",
     "text": [
      "WARNING:tensorflow:`input_shape` is undefined or non-square, or `rows` is not in [128, 160, 192, 224]. Weights for input shape (224, 224) will be loaded as the default.\n",
      "Downloading data from https://storage.googleapis.com/tensorflow/keras-applications/mobilenet/mobilenet_1_0_224_tf_no_top.h5\n",
      "17225924/17225924 [==============================] - 3s 0us/step\n"
     ]
    }
   ],
   "source": [
    "# Define the MobileNet transfer learning model\n",
    "mobilenet_model = MobileNet(input_shape=(32, 32, 3), include_top=False, weights='imagenet')"
   ]
  },
  {
   "cell_type": "code",
   "execution_count": 14,
   "id": "688b7f03",
   "metadata": {},
   "outputs": [],
   "source": [
    "# Freeze pre-trained layers\n",
    "for layer in mobilenet_model.layers:\n",
    "    layer.trainable = False"
   ]
  },
  {
   "cell_type": "code",
   "execution_count": 16,
   "id": "edd8418b",
   "metadata": {},
   "outputs": [],
   "source": [
    "# Add custom layers for CIFAR-10 classification\n",
    "mobilenet_model = keras.Sequential([\n",
    "    mobilenet_model,\n",
    "    layers.GlobalAveragePooling2D(),\n",
    "    layers.Dense(10, activation='softmax')\n",
    "])"
   ]
  },
  {
   "cell_type": "code",
   "execution_count": 17,
   "id": "33b7a78d",
   "metadata": {},
   "outputs": [],
   "source": [
    "# Compile the MobileNet model\n",
    "mobilenet_model.compile(optimizer='adam',\n",
    "                        loss='sparse_categorical_crossentropy',\n",
    "                        metrics=['accuracy'])"
   ]
  },
  {
   "cell_type": "code",
   "execution_count": 18,
   "id": "d685b858",
   "metadata": {},
   "outputs": [
    {
     "name": "stdout",
     "output_type": "stream",
     "text": [
      "Epoch 1/10\n",
      "1563/1563 [==============================] - 75s 44ms/step - loss: 2.2226 - accuracy: 0.1868 - val_loss: 2.1838 - val_accuracy: 0.2089\n",
      "Epoch 2/10\n",
      "1563/1563 [==============================] - 64s 41ms/step - loss: 2.1751 - accuracy: 0.2140 - val_loss: 2.1642 - val_accuracy: 0.2191\n",
      "Epoch 3/10\n",
      "1563/1563 [==============================] - 63s 40ms/step - loss: 2.1631 - accuracy: 0.2192 - val_loss: 2.1563 - val_accuracy: 0.2241\n",
      "Epoch 4/10\n",
      "1563/1563 [==============================] - 63s 40ms/step - loss: 2.1571 - accuracy: 0.2215 - val_loss: 2.1510 - val_accuracy: 0.2220\n",
      "Epoch 5/10\n",
      "1563/1563 [==============================] - 67s 43ms/step - loss: 2.1533 - accuracy: 0.2231 - val_loss: 2.1484 - val_accuracy: 0.2233\n",
      "Epoch 6/10\n",
      "1563/1563 [==============================] - 63s 41ms/step - loss: 2.1511 - accuracy: 0.2232 - val_loss: 2.1467 - val_accuracy: 0.2207\n",
      "Epoch 7/10\n",
      "1563/1563 [==============================] - 60s 38ms/step - loss: 2.1496 - accuracy: 0.2235 - val_loss: 2.1459 - val_accuracy: 0.2222\n",
      "Epoch 8/10\n",
      "1563/1563 [==============================] - 60s 38ms/step - loss: 2.1486 - accuracy: 0.2238 - val_loss: 2.1448 - val_accuracy: 0.2250\n",
      "Epoch 9/10\n",
      "1563/1563 [==============================] - 59s 38ms/step - loss: 2.1479 - accuracy: 0.2244 - val_loss: 2.1442 - val_accuracy: 0.2240\n",
      "Epoch 10/10\n",
      "1563/1563 [==============================] - 60s 38ms/step - loss: 2.1473 - accuracy: 0.2237 - val_loss: 2.1438 - val_accuracy: 0.2246\n"
     ]
    }
   ],
   "source": [
    "# Train the MobileNet model\n",
    "mobilenet_history = mobilenet_model.fit(x_train, y_train, epochs=10, validation_data=(x_test, y_test))"
   ]
  },
  {
   "cell_type": "code",
   "execution_count": 19,
   "id": "2c9e22f3",
   "metadata": {},
   "outputs": [
    {
     "name": "stdout",
     "output_type": "stream",
     "text": [
      "313/313 [==============================] - 4s 12ms/step - loss: 0.8668 - accuracy: 0.7107\n"
     ]
    }
   ],
   "source": [
    "# Evaluate the CNN model\n",
    "cnn_test_loss, cnn_test_accuracy = cnn_model.evaluate(x_test, y_test)"
   ]
  },
  {
   "cell_type": "code",
   "execution_count": 20,
   "id": "a40e2fee",
   "metadata": {},
   "outputs": [
    {
     "name": "stdout",
     "output_type": "stream",
     "text": [
      "313/313 [==============================] - 11s 36ms/step - loss: 2.1438 - accuracy: 0.2246\n"
     ]
    }
   ],
   "source": [
    "# Evaluate the MobileNet model\n",
    "mobilenet_test_loss, mobilenet_test_accuracy = mobilenet_model.evaluate(x_test, y_test)\n"
   ]
  },
  {
   "cell_type": "code",
   "execution_count": 21,
   "id": "e6347e0e",
   "metadata": {},
   "outputs": [
    {
     "name": "stdout",
     "output_type": "stream",
     "text": [
      "CNN Model Test Accuracy: 0.7106999754905701\n",
      "MobileNet Model Test Accuracy: 0.22460000216960907\n"
     ]
    }
   ],
   "source": [
    "# Print accuracy for both models\n",
    "print(\"CNN Model Test Accuracy:\", cnn_test_accuracy)\n",
    "print(\"MobileNet Model Test Accuracy:\", mobilenet_test_accuracy)\n"
   ]
  },
  {
   "cell_type": "code",
   "execution_count": 22,
   "id": "47a1329c",
   "metadata": {},
   "outputs": [
    {
     "data": {
      "text/plain": [
       "<matplotlib.legend.Legend at 0x1904a472a10>"
      ]
     },
     "execution_count": 22,
     "metadata": {},
     "output_type": "execute_result"
    },
    {
     "data": {
      "image/png": "[encoded data removed]",
      "text/plain": [
       "<Figure size 1000x400 with 1 Axes>"
      ]
     },
     "metadata": {},
     "output_type": "display_data"
    }
   ],
   "source": [
    "# Overfit Analysis\n",
    "# Visualize training and validation accuracy\n",
    "plt.figure(figsize=(10, 4))\n",
    "plt.subplot(1, 2, 1)\n",
    "plt.plot(cnn_history.history['accuracy'], label='CNN Train Accuracy')\n",
    "plt.plot(cnn_history.history['val_accuracy'], label='CNN Validation Accuracy')\n",
    "plt.xlabel('Epochs')\n",
    "plt.ylabel('Accuracy')\n",
    "plt.legend()\n"
   ]
  },
  {
   "cell_type": "code",
   "execution_count": 23,
   "id": "4239b517",
   "metadata": {},
   "outputs": [
    {
     "data": {
      "image/png": "[encoded data removed]",
      "text/plain": [
       "<Figure size 640x480 with 1 Axes>"
      ]
     },
     "metadata": {},
     "output_type": "display_data"
    }
   ],
   "source": [
    "plt.subplot(1, 2, 2)\n",
    "plt.plot(mobilenet_history.history['accuracy'], label='MobileNet Train Accuracy')\n",
    "plt.plot(mobilenet_history.history['val_accuracy'], label='MobileNet Validation Accuracy')\n",
    "plt.xlabel('Epochs')\n",
    "plt.ylabel('Accuracy')\n",
    "plt.legend()\n",
    "plt.tight_layout()\n",
    "plt.show()"
   ]
  },
  {
   "cell_type": "code",
   "execution_count": 24,
   "id": "51a82636",
   "metadata": {},
   "outputs": [
    {
     "name": "stdout",
     "output_type": "stream",
     "text": [
      "313/313 [==============================] - 4s 11ms/step\n",
      "313/313 [==============================] - 11s 33ms/step\n"
     ]
    }
   ],
   "source": [
    "# Generate classification reports and confusion matrices\n",
    "cnn_predictions = np.argmax(cnn_model.predict(x_test), axis=-1)\n",
    "mobilenet_predictions = np.argmax(mobilenet_model.predict(x_test), axis=-1)"
   ]
  },
  {
   "cell_type": "code",
   "execution_count": 25,
   "id": "dde921c0",
   "metadata": {},
   "outputs": [
    {
     "name": "stdout",
     "output_type": "stream",
     "text": [
      "CNN Classification Report:\n",
      "               precision    recall  f1-score   support\n",
      "\n",
      "           0       0.71      0.79      0.75      1000\n",
      "           1       0.78      0.88      0.83      1000\n",
      "           2       0.57      0.65      0.61      1000\n",
      "           3       0.62      0.42      0.50      1000\n",
      "           4       0.66      0.66      0.66      1000\n",
      "           5       0.64      0.56      0.60      1000\n",
      "           6       0.67      0.87      0.76      1000\n",
      "           7       0.86      0.69      0.76      1000\n",
      "           8       0.86      0.78      0.82      1000\n",
      "           9       0.76      0.81      0.79      1000\n",
      "\n",
      "    accuracy                           0.71     10000\n",
      "   macro avg       0.71      0.71      0.71     10000\n",
      "weighted avg       0.71      0.71      0.71     10000\n",
      "\n",
      "MobileNet Classification Report:\n",
      "               precision    recall  f1-score   support\n",
      "\n",
      "           0       0.20      0.41      0.27      1000\n",
      "           1       0.39      0.06      0.10      1000\n",
      "           2       0.24      0.09      0.13      1000\n",
      "           3       0.23      0.16      0.19      1000\n",
      "           4       0.12      0.05      0.07      1000\n",
      "           5       0.29      0.23      0.26      1000\n",
      "           6       0.22      0.33      0.27      1000\n",
      "           7       0.20      0.52      0.29      1000\n",
      "           8       0.28      0.27      0.28      1000\n",
      "           9       0.22      0.13      0.17      1000\n",
      "\n",
      "    accuracy                           0.22     10000\n",
      "   macro avg       0.24      0.22      0.20     10000\n",
      "weighted avg       0.24      0.22      0.20     10000\n",
      "\n"
     ]
    }
   ],
   "source": [
    "print(\"CNN Classification Report:\\n\", classification_report(y_test, cnn_predictions))\n",
    "print(\"MobileNet Classification Report:\\n\", classification_report(y_test, mobilenet_predictions))"
   ]
  },
  {
   "cell_type": "code",
   "execution_count": 26,
   "id": "7bd6da91",
   "metadata": {},
   "outputs": [],
   "source": [
    "cnn_confusion = confusion_matrix(y_test, cnn_predictions)\n",
    "mobilenet_confusion = confusion_matrix(y_test, mobilenet_predictions)"
   ]
  },
  {
   "cell_type": "code",
   "execution_count": 28,
   "id": "9cf829d7",
   "metadata": {},
   "outputs": [
    {
     "name": "stdout",
     "output_type": "stream",
     "text": [
      "CNN Confusion Matrix:\n",
      " [[788  29  45   7  18   6  15   4  50  38]\n",
      " [ 21 880   5   3   2   1   5   1   6  76]\n",
      " [ 77   9 648  28  68  46  92  15   8   9]\n",
      " [ 39  21 107 418  83 146 132  19  10  25]\n",
      " [ 27   7 108  32 662  28  81  40   9   6]\n",
      " [ 19  12  89 130  62 563  67  28   6  24]\n",
      " [  6   7  41  28  22  10 872   4   6   4]\n",
      " [ 27   7  69  21  78  69  10 690   6  23]\n",
      " [ 77  62  16   4   5   2   9   3 778  44]\n",
      " [ 32  96  10   6   6   2  14   3  23 808]]\n",
      "MobileNet Confusion Matrix:\n",
      " [[407   2  52  25  35  14  90 218 130  27]\n",
      " [148  56  15  59  52  81 116 229 123 121]\n",
      " [214   5  90 100  43  67 174 193  65  49]\n",
      " [101  13  43 162  45 112 184 252  46  42]\n",
      " [282   1  34  53  49  33 167 261  76  44]\n",
      " [ 87  16  40 112  31 229 153 227  46  59]\n",
      " [178   5  32  64  52  77 328 194  35  35]\n",
      " [140   8  23  46  43  67  67 520  45  41]\n",
      " [246  15  26  46  28  33  84 195 272  55]\n",
      " [184  21  16  49  35  65  99 264 134 133]]\n"
     ]
    }
   ],
   "source": [
    "# Print confusion matrices\n",
    "print(\"CNN Confusion Matrix:\\n\", cnn_confusion)\n",
    "print(\"MobileNet Confusion Matrix:\\n\", mobilenet_confusion)"
   ]
  }
 ],
 "metadata": {
  "kernelspec": {
   "display_name": "Python 3 (ipykernel)",
   "language": "python",
   "name": "python3"
  },
  "language_info": {
   "codemirror_mode": {
    "name": "ipython",
    "version": 3
   },
   "file_extension": ".py",
   "mimetype": "text/x-python",
   "name": "python",
   "nbconvert_exporter": "python",
   "pygments_lexer": "ipython3",
   "version": "3.11.4"
  }
 },
 "nbformat": 4,
 "nbformat_minor": 5
}
